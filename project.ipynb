{
 "cells": [
  {
   "cell_type": "code",
   "execution_count": 1,
   "id": "131b4381",
   "metadata": {},
   "outputs": [],
   "source": [
    "import selenium\n",
    "from selenium import webdriver\n",
    "from selenium.webdriver.common.keys import Keys\n",
    "from selenium.webdriver.common.by import By\n",
    "import time\n",
    "import urllib.request"
   ]
  },
  {
   "cell_type": "code",
   "execution_count": 2,
   "id": "32bf21b5",
   "metadata": {},
   "outputs": [],
   "source": [
    "driver = webdriver.Chrome()\n",
    "url = \"https://www.google.com/\"\n",
    "driver.get(url)                #get = 브라우저 접근 함수"
   ]
  },
  {
   "cell_type": "code",
   "execution_count": 3,
   "id": "4b859c3d",
   "metadata": {},
   "outputs": [],
   "source": [
    "elem = driver.find_element(By.CSS_SELECTOR,\"#APjFqb\")\n",
    "elem.send_keys(\"캠핑\")\n",
    "elem.send_keys(Keys.RETURN)"
   ]
  },
  {
   "cell_type": "code",
   "execution_count": 4,
   "id": "b96668ae",
   "metadata": {},
   "outputs": [],
   "source": [
    "driver.find_element(By.CSS_SELECTOR,\"div.GKS7s\").click()"
   ]
  },
  {
   "cell_type": "code",
   "execution_count": 5,
   "id": "b9f137cb",
   "metadata": {},
   "outputs": [
    {
     "name": "stdout",
     "output_type": "stream",
     "text": [
      "찾은 이미지 개수: 33\n"
     ]
    }
   ],
   "source": [
    "links = []\n",
    "images = driver.find_elements(By.CSS_SELECTOR, 'img.rg_i.Q4LuWd')\n",
    "\n",
    "elem2 = driver.find_element(By.CSS_SELECTOR,\"body\")\n",
    "for i in range(1):\n",
    "    elem2.send_keys(Keys.PAGE_DOWN)\n",
    "    time.sleep(0.1)\n",
    "\n",
    "    for image in images:\n",
    "        if image.get_attribute('src') is not None:\n",
    "            links.append(image.get_attribute('src'))\n",
    "print('찾은 이미지 개수:', len(links))\n"
   ]
  },
  {
   "cell_type": "code",
   "execution_count": 6,
   "id": "144256e8",
   "metadata": {},
   "outputs": [],
   "source": [
    "for k,i in enumerate(links):\n",
    "    url = i\n",
    "    urllib.request.urlretrieve(url, \"C:\\\\Users\\\\MEGA\\\\Desktop\\\\김경찬 프로젝트\\\\크롤링\\\\\"+str(k)+\".jpg\" )"
   ]
  },
  {
   "cell_type": "code",
   "execution_count": null,
   "id": "814070e3",
   "metadata": {},
   "outputs": [],
   "source": [
    "!pip install ultralytics"
   ]
  },
  {
   "cell_type": "code",
   "execution_count": 17,
   "id": "f9cd21ca",
   "metadata": {},
   "outputs": [],
   "source": [
    "from ultralytics import YOLO\n",
    "import os\n",
    "from PIL import Image"
   ]
  },
  {
   "cell_type": "code",
   "execution_count": 18,
   "id": "f9e5c3fb",
   "metadata": {},
   "outputs": [
    {
     "name": "stdout",
     "output_type": "stream",
     "text": [
      "\n",
      "image 1/1 C:\\Users\\MEGA\\Desktop\\김경찬 프로젝트\\크롤링\\0.jpg: 640x576 3 persons, 1 truck, 253.2ms\n",
      "Speed: 0.0ms preprocess, 253.2ms inference, 0.0ms postprocess per image at shape (1, 3, 640, 576)\n",
      "\n",
      "image 1/1 C:\\Users\\MEGA\\Desktop\\김경찬 프로젝트\\크롤링\\1.jpg: 320x640 1 umbrella, 163.3ms\n",
      "Speed: 0.0ms preprocess, 163.3ms inference, 0.0ms postprocess per image at shape (1, 3, 320, 640)\n",
      "\n",
      "image 1/1 C:\\Users\\MEGA\\Desktop\\김경찬 프로젝트\\크롤링\\2.jpg: 320x640 5 persons, 1 truck, 1 chair, 137.4ms\n",
      "Speed: 0.0ms preprocess, 137.4ms inference, 0.0ms postprocess per image at shape (1, 3, 320, 640)\n",
      "\n",
      "image 1/1 C:\\Users\\MEGA\\Desktop\\김경찬 프로젝트\\크롤링\\3.jpg: 384x640 5 persons, 132.8ms\n",
      "Speed: 0.0ms preprocess, 132.8ms inference, 0.0ms postprocess per image at shape (1, 3, 384, 640)\n",
      "\n",
      "image 1/1 C:\\Users\\MEGA\\Desktop\\김경찬 프로젝트\\크롤링\\4.jpg: 448x640 6 persons, 1 cup, 2 chairs, 2 dining tables, 292.3ms\n",
      "Speed: 0.0ms preprocess, 292.3ms inference, 1.0ms postprocess per image at shape (1, 3, 448, 640)\n",
      "\n",
      "image 1/1 C:\\Users\\MEGA\\Desktop\\김경찬 프로젝트\\크롤링\\5.jpg: 288x640 1 person, 162.8ms\n",
      "Speed: 1.0ms preprocess, 162.8ms inference, 1.0ms postprocess per image at shape (1, 3, 288, 640)\n",
      "\n",
      "image 1/1 C:\\Users\\MEGA\\Desktop\\김경찬 프로젝트\\크롤링\\6.jpg: 448x640 1 person, 272.7ms\n",
      "Speed: 1.9ms preprocess, 272.7ms inference, 2.0ms postprocess per image at shape (1, 3, 448, 640)\n",
      "\n",
      "image 1/1 C:\\Users\\MEGA\\Desktop\\김경찬 프로젝트\\크롤링\\7.jpg: 640x640 (no detections), 254.8ms\n",
      "Speed: 0.0ms preprocess, 254.8ms inference, 1.0ms postprocess per image at shape (1, 3, 640, 640)\n",
      "\n",
      "image 1/1 C:\\Users\\MEGA\\Desktop\\김경찬 프로젝트\\크롤링\\8.jpg: 448x640 1 bench, 187.3ms\n",
      "Speed: 4.2ms preprocess, 187.3ms inference, 1.6ms postprocess per image at shape (1, 3, 448, 640)\n",
      "\n",
      "image 1/1 C:\\Users\\MEGA\\Desktop\\김경찬 프로젝트\\크롤링\\9.jpg: 416x640 1 umbrella, 1 potted plant, 164.6ms\n",
      "Speed: 2.0ms preprocess, 164.6ms inference, 1.0ms postprocess per image at shape (1, 3, 416, 640)\n",
      "\n",
      "image 1/1 C:\\Users\\MEGA\\Desktop\\김경찬 프로젝트\\크롤링\\10.jpg: 448x640 (no detections), 203.2ms\n",
      "Speed: 2.1ms preprocess, 203.2ms inference, 0.0ms postprocess per image at shape (1, 3, 448, 640)\n",
      "\n",
      "image 1/1 C:\\Users\\MEGA\\Desktop\\김경찬 프로젝트\\크롤링\\11.jpg: 448x640 1 boat, 2 umbrellas, 2 chairs, 174.7ms\n",
      "Speed: 0.0ms preprocess, 174.7ms inference, 0.0ms postprocess per image at shape (1, 3, 448, 640)\n",
      "\n",
      "image 1/1 C:\\Users\\MEGA\\Desktop\\김경찬 프로젝트\\크롤링\\12.jpg: 448x640 11 persons, 1 boat, 146.8ms\n",
      "Speed: 0.0ms preprocess, 146.8ms inference, 0.0ms postprocess per image at shape (1, 3, 448, 640)\n",
      "\n",
      "image 1/1 C:\\Users\\MEGA\\Desktop\\김경찬 프로젝트\\크롤링\\13.jpg: 608x640 (no detections), 225.2ms\n",
      "Speed: 13.1ms preprocess, 225.2ms inference, 0.0ms postprocess per image at shape (1, 3, 608, 640)\n",
      "\n",
      "image 1/1 C:\\Users\\MEGA\\Desktop\\김경찬 프로젝트\\크롤링\\14.jpg: 352x640 1 boat, 128.7ms\n",
      "Speed: 0.0ms preprocess, 128.7ms inference, 0.0ms postprocess per image at shape (1, 3, 352, 640)\n",
      "\n",
      "image 1/1 C:\\Users\\MEGA\\Desktop\\김경찬 프로젝트\\크롤링\\15.jpg: 448x640 2 umbrellas, 2 chairs, 1 dining table, 1 clock, 146.4ms\n",
      "Speed: 0.0ms preprocess, 146.4ms inference, 0.0ms postprocess per image at shape (1, 3, 448, 640)\n",
      "\n",
      "image 1/1 C:\\Users\\MEGA\\Desktop\\김경찬 프로젝트\\크롤링\\16.jpg: 480x640 3 persons, 1 umbrella, 178.6ms\n",
      "Speed: 15.6ms preprocess, 178.6ms inference, 0.0ms postprocess per image at shape (1, 3, 480, 640)\n",
      "\n",
      "image 1/1 C:\\Users\\MEGA\\Desktop\\김경찬 프로젝트\\크롤링\\17.jpg: 448x640 (no detections), 144.1ms\n",
      "Speed: 15.6ms preprocess, 144.1ms inference, 0.0ms postprocess per image at shape (1, 3, 448, 640)\n",
      "\n",
      "image 1/1 C:\\Users\\MEGA\\Desktop\\김경찬 프로젝트\\크롤링\\18.jpg: 448x640 1 umbrella, 2 chairs, 185.0ms\n",
      "Speed: 0.0ms preprocess, 185.0ms inference, 0.0ms postprocess per image at shape (1, 3, 448, 640)\n",
      "\n",
      "image 1/1 C:\\Users\\MEGA\\Desktop\\김경찬 프로젝트\\크롤링\\19.jpg: 448x640 8 persons, 2 cups, 1 chair, 1 dining table, 159.1ms\n",
      "Speed: 0.0ms preprocess, 159.1ms inference, 0.0ms postprocess per image at shape (1, 3, 448, 640)\n",
      "\n",
      "image 1/1 C:\\Users\\MEGA\\Desktop\\김경찬 프로젝트\\크롤링\\20.jpg: 448x640 1 boat, 239.3ms\n",
      "Speed: 0.0ms preprocess, 239.3ms inference, 3.2ms postprocess per image at shape (1, 3, 448, 640)\n",
      "\n",
      "image 1/1 C:\\Users\\MEGA\\Desktop\\김경찬 프로젝트\\크롤링\\21.jpg: 352x640 1 bus, 3 trucks, 1 bench, 1 chair, 147.8ms\n",
      "Speed: 0.0ms preprocess, 147.8ms inference, 15.6ms postprocess per image at shape (1, 3, 352, 640)\n",
      "\n",
      "image 1/1 C:\\Users\\MEGA\\Desktop\\김경찬 프로젝트\\크롤링\\22.jpg: 448x640 1 truck, 195.2ms\n",
      "Speed: 15.6ms preprocess, 195.2ms inference, 1.0ms postprocess per image at shape (1, 3, 448, 640)\n",
      "\n",
      "image 1/1 C:\\Users\\MEGA\\Desktop\\김경찬 프로젝트\\크롤링\\23.jpg: 448x640 2 persons, 1 chair, 172.8ms\n",
      "Speed: 0.0ms preprocess, 172.8ms inference, 0.0ms postprocess per image at shape (1, 3, 448, 640)\n",
      "\n",
      "image 1/1 C:\\Users\\MEGA\\Desktop\\김경찬 프로젝트\\크롤링\\24.jpg: 384x640 1 person, 1 bottle, 1 vase, 143.3ms\n",
      "Speed: 0.0ms preprocess, 143.3ms inference, 0.0ms postprocess per image at shape (1, 3, 384, 640)\n",
      "\n",
      "image 1/1 C:\\Users\\MEGA\\Desktop\\김경찬 프로젝트\\크롤링\\25.jpg: 640x544 (no detections), 159.6ms\n",
      "Speed: 15.6ms preprocess, 159.6ms inference, 0.0ms postprocess per image at shape (1, 3, 640, 544)\n",
      "\n",
      "image 1/1 C:\\Users\\MEGA\\Desktop\\김경찬 프로젝트\\크롤링\\26.jpg: 480x640 1 airplane, 2 boats, 166.7ms\n",
      "Speed: 0.0ms preprocess, 166.7ms inference, 0.0ms postprocess per image at shape (1, 3, 480, 640)\n",
      "\n",
      "image 1/1 C:\\Users\\MEGA\\Desktop\\김경찬 프로젝트\\크롤링\\27.jpg: 544x640 1 airplane, 216.1ms\n",
      "Speed: 0.0ms preprocess, 216.1ms inference, 0.0ms postprocess per image at shape (1, 3, 544, 640)\n",
      "\n",
      "image 1/1 C:\\Users\\MEGA\\Desktop\\김경찬 프로젝트\\크롤링\\28.jpg: 448x640 3 cars, 1 boat, 149.1ms\n",
      "Speed: 0.0ms preprocess, 149.1ms inference, 0.0ms postprocess per image at shape (1, 3, 448, 640)\n",
      "\n",
      "image 1/1 C:\\Users\\MEGA\\Desktop\\김경찬 프로젝트\\크롤링\\29.jpg: 640x544 2 dining tables, 187.6ms\n",
      "Speed: 15.6ms preprocess, 187.6ms inference, 2.0ms postprocess per image at shape (1, 3, 640, 544)\n",
      "\n",
      "image 1/1 C:\\Users\\MEGA\\Desktop\\김경찬 프로젝트\\크롤링\\30.jpg: 448x640 (no detections), 161.6ms\n",
      "Speed: 2.0ms preprocess, 161.6ms inference, 0.0ms postprocess per image at shape (1, 3, 448, 640)\n"
     ]
    }
   ],
   "source": [
    "model = YOLO(\"yolov8s.pt\") \n",
    "for i in range(0, 31):\n",
    "    img_path = f\"C:\\\\Users\\\\MEGA\\\\Desktop\\\\김경찬 프로젝트\\\\크롤링\\\\{i}.jpg\"\n",
    "    result = model.predict(img_path)\n",
    "    data = result[0].boxes.data\n",
    "    dir_name = 'crop_img'\n",
    "    img_name =f\"{i}.jpg\"\n",
    "    img_name = img_name.split(\".\")[0]\n",
    "    saved_dir = os.path.join(os.getcwd(), dir_name, img_name)\n",
    "    os.makedirs(saved_dir, exist_ok=True)\n",
    "\n",
    "    f_img = Image.open(img_path)\n",
    "    for idx, d in enumerate(data):\n",
    "        if d[-1]==0:\n",
    "            img_cropped = f_img.crop((int(d[0]),int(d[1]),int(d[2]),int(d[3])))\n",
    "            img_cropped = img_cropped.convert(\"RGB\")\n",
    "            img_cropped_path = os.path.join(saved_dir, f\"{img_name}_person_{idx}.jpg\")\n",
    "            img_cropped.save(img_cropped_path,\"JPEG\")"
   ]
  }
 ],
 "metadata": {
  "kernelspec": {
   "display_name": "Python 3 (ipykernel)",
   "language": "python",
   "name": "python3"
  },
  "language_info": {
   "codemirror_mode": {
    "name": "ipython",
    "version": 3
   },
   "file_extension": ".py",
   "mimetype": "text/x-python",
   "name": "python",
   "nbconvert_exporter": "python",
   "pygments_lexer": "ipython3",
   "version": "3.11.5"
  }
 },
 "nbformat": 4,
 "nbformat_minor": 5
}
